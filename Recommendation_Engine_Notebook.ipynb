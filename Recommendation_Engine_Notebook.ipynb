{
 "cells": [
  {
   "cell_type": "markdown",
   "id": "2357c02e",
   "metadata": {},
   "source": [
    "# Book Recommendation Engine"
   ]
  },
  {
   "cell_type": "markdown",
   "id": "d3f11d1b",
   "metadata": {},
   "source": [
    "You've just finished a book. Well done, you! According to a Gallup poll, Americans read 12.6 books a year. And you know the worst thing when you've just finished a book is not knowing what to read next.\n",
    "\n",
    "So, that's why I built a book recommendation engine. Using data like genres, reader ratings, and series, I'll give you at least five books to read next for every one you input.\n",
    "\n",
    "Let's get started."
   ]
  },
  {
   "cell_type": "code",
   "execution_count": 1,
   "id": "412007b6",
   "metadata": {},
   "outputs": [],
   "source": [
    "# basic libraries\n",
    "import pandas as pd\n",
    "import numpy as np\n",
    "import matplotlib.pyplot as plt\n",
    "%matplotlib inline\n",
    "import seaborn as sns\n",
    "\n",
    "# sklearn\n",
    "from sklearn.model_selection import train_test_split\n",
    "from sklearn.preprocessing import MinMaxScaler\n",
    "from sklearn.cluster import KMeans\n",
    "from sklearn import neighbors\n",
    "\n",
    "import warnings \n",
    "warnings.filterwarnings('ignore')"
   ]
  },
  {
   "cell_type": "markdown",
   "id": "5e77e2cd",
   "metadata": {},
   "source": [
    "## EDA"
   ]
  },
  {
   "cell_type": "markdown",
   "id": "711f33b1",
   "metadata": {},
   "source": [
    "The data comes from a Kaggle dataset full of book information. Included is the book title, author, average rating, language, description, genres, and more. Let's dig into it."
   ]
  },
  {
   "cell_type": "code",
   "execution_count": 2,
   "id": "92a59234",
   "metadata": {},
   "outputs": [
    {
     "data": {
      "text/html": [
       "<div>\n",
       "<style scoped>\n",
       "    .dataframe tbody tr th:only-of-type {\n",
       "        vertical-align: middle;\n",
       "    }\n",
       "\n",
       "    .dataframe tbody tr th {\n",
       "        vertical-align: top;\n",
       "    }\n",
       "\n",
       "    .dataframe thead th {\n",
       "        text-align: right;\n",
       "    }\n",
       "</style>\n",
       "<table border=\"1\" class=\"dataframe\">\n",
       "  <thead>\n",
       "    <tr style=\"text-align: right;\">\n",
       "      <th></th>\n",
       "      <th>bookId</th>\n",
       "      <th>title</th>\n",
       "      <th>series</th>\n",
       "      <th>author</th>\n",
       "      <th>rating</th>\n",
       "      <th>description</th>\n",
       "      <th>language</th>\n",
       "      <th>isbn</th>\n",
       "      <th>genres</th>\n",
       "      <th>characters</th>\n",
       "      <th>...</th>\n",
       "      <th>firstPublishDate</th>\n",
       "      <th>awards</th>\n",
       "      <th>numRatings</th>\n",
       "      <th>ratingsByStars</th>\n",
       "      <th>likedPercent</th>\n",
       "      <th>setting</th>\n",
       "      <th>coverImg</th>\n",
       "      <th>bbeScore</th>\n",
       "      <th>bbeVotes</th>\n",
       "      <th>price</th>\n",
       "    </tr>\n",
       "  </thead>\n",
       "  <tbody>\n",
       "    <tr>\n",
       "      <th>0</th>\n",
       "      <td>2767052-the-hunger-games</td>\n",
       "      <td>The Hunger Games</td>\n",
       "      <td>The Hunger Games #1</td>\n",
       "      <td>Suzanne Collins</td>\n",
       "      <td>4.33</td>\n",
       "      <td>WINNING MEANS FAME AND FORTUNE.LOSING MEANS CE...</td>\n",
       "      <td>English</td>\n",
       "      <td>9780439023481</td>\n",
       "      <td>['Young Adult', 'Fiction', 'Dystopia', 'Fantas...</td>\n",
       "      <td>['Katniss Everdeen', 'Peeta Mellark', 'Cato (H...</td>\n",
       "      <td>...</td>\n",
       "      <td>NaN</td>\n",
       "      <td>['Locus Award Nominee for Best Young Adult Boo...</td>\n",
       "      <td>6376780</td>\n",
       "      <td>['3444695', '1921313', '745221', '171994', '93...</td>\n",
       "      <td>96.0</td>\n",
       "      <td>['District 12, Panem', 'Capitol, Panem', 'Pane...</td>\n",
       "      <td>https://i.gr-assets.com/images/S/compressed.ph...</td>\n",
       "      <td>2993816</td>\n",
       "      <td>30516</td>\n",
       "      <td>5.09</td>\n",
       "    </tr>\n",
       "    <tr>\n",
       "      <th>1</th>\n",
       "      <td>2.Harry_Potter_and_the_Order_of_the_Phoenix</td>\n",
       "      <td>Harry Potter and the Order of the Phoenix</td>\n",
       "      <td>Harry Potter #5</td>\n",
       "      <td>J.K. Rowling, Mary GrandPré (Illustrator)</td>\n",
       "      <td>4.50</td>\n",
       "      <td>There is a door at the end of a silent corrido...</td>\n",
       "      <td>English</td>\n",
       "      <td>9780439358071</td>\n",
       "      <td>['Fantasy', 'Young Adult', 'Fiction', 'Magic',...</td>\n",
       "      <td>['Sirius Black', 'Draco Malfoy', 'Ron Weasley'...</td>\n",
       "      <td>...</td>\n",
       "      <td>06/21/03</td>\n",
       "      <td>['Bram Stoker Award for Works for Young Reader...</td>\n",
       "      <td>2507623</td>\n",
       "      <td>['1593642', '637516', '222366', '39573', '14526']</td>\n",
       "      <td>98.0</td>\n",
       "      <td>['Hogwarts School of Witchcraft and Wizardry (...</td>\n",
       "      <td>https://i.gr-assets.com/images/S/compressed.ph...</td>\n",
       "      <td>2632233</td>\n",
       "      <td>26923</td>\n",
       "      <td>7.38</td>\n",
       "    </tr>\n",
       "    <tr>\n",
       "      <th>2</th>\n",
       "      <td>2657.To_Kill_a_Mockingbird</td>\n",
       "      <td>To Kill a Mockingbird</td>\n",
       "      <td>To Kill a Mockingbird</td>\n",
       "      <td>Harper Lee</td>\n",
       "      <td>4.28</td>\n",
       "      <td>The unforgettable novel of a childhood in a sl...</td>\n",
       "      <td>English</td>\n",
       "      <td>9999999999999</td>\n",
       "      <td>['Classics', 'Fiction', 'Historical Fiction', ...</td>\n",
       "      <td>['Scout Finch', 'Atticus Finch', 'Jem Finch', ...</td>\n",
       "      <td>...</td>\n",
       "      <td>07/11/60</td>\n",
       "      <td>['Pulitzer Prize for Fiction (1961)', 'Audie A...</td>\n",
       "      <td>4501075</td>\n",
       "      <td>['2363896', '1333153', '573280', '149952', '80...</td>\n",
       "      <td>95.0</td>\n",
       "      <td>['Maycomb, Alabama (United States)']</td>\n",
       "      <td>https://i.gr-assets.com/images/S/compressed.ph...</td>\n",
       "      <td>2269402</td>\n",
       "      <td>23328</td>\n",
       "      <td>NaN</td>\n",
       "    </tr>\n",
       "    <tr>\n",
       "      <th>3</th>\n",
       "      <td>1885.Pride_and_Prejudice</td>\n",
       "      <td>Pride and Prejudice</td>\n",
       "      <td>NaN</td>\n",
       "      <td>Jane Austen, Anna Quindlen (Introduction)</td>\n",
       "      <td>4.26</td>\n",
       "      <td>Alternate cover edition of ISBN 9780679783268S...</td>\n",
       "      <td>English</td>\n",
       "      <td>9999999999999</td>\n",
       "      <td>['Classics', 'Fiction', 'Romance', 'Historical...</td>\n",
       "      <td>['Mr. Bennet', 'Mrs. Bennet', 'Jane Bennet', '...</td>\n",
       "      <td>...</td>\n",
       "      <td>01/28/13</td>\n",
       "      <td>[]</td>\n",
       "      <td>2998241</td>\n",
       "      <td>['1617567', '816659', '373311', '113934', '767...</td>\n",
       "      <td>94.0</td>\n",
       "      <td>['United Kingdom', 'Derbyshire, England (Unite...</td>\n",
       "      <td>https://i.gr-assets.com/images/S/compressed.ph...</td>\n",
       "      <td>1983116</td>\n",
       "      <td>20452</td>\n",
       "      <td>NaN</td>\n",
       "    </tr>\n",
       "    <tr>\n",
       "      <th>4</th>\n",
       "      <td>41865.Twilight</td>\n",
       "      <td>Twilight</td>\n",
       "      <td>The Twilight Saga #1</td>\n",
       "      <td>Stephenie Meyer</td>\n",
       "      <td>3.60</td>\n",
       "      <td>About three things I was absolutely positive.\\...</td>\n",
       "      <td>English</td>\n",
       "      <td>9780316015844</td>\n",
       "      <td>['Young Adult', 'Fantasy', 'Romance', 'Vampire...</td>\n",
       "      <td>['Edward Cullen', 'Jacob Black', 'Laurent', 'R...</td>\n",
       "      <td>...</td>\n",
       "      <td>10/05/05</td>\n",
       "      <td>['Georgia Peach Book Award (2007)', 'Buxtehude...</td>\n",
       "      <td>4964519</td>\n",
       "      <td>['1751460', '1113682', '1008686', '542017', '5...</td>\n",
       "      <td>78.0</td>\n",
       "      <td>['Forks, Washington (United States)', 'Phoenix...</td>\n",
       "      <td>https://i.gr-assets.com/images/S/compressed.ph...</td>\n",
       "      <td>1459448</td>\n",
       "      <td>14874</td>\n",
       "      <td>2.1</td>\n",
       "    </tr>\n",
       "  </tbody>\n",
       "</table>\n",
       "<p>5 rows × 25 columns</p>\n",
       "</div>"
      ],
      "text/plain": [
       "                                        bookId  \\\n",
       "0                     2767052-the-hunger-games   \n",
       "1  2.Harry_Potter_and_the_Order_of_the_Phoenix   \n",
       "2                   2657.To_Kill_a_Mockingbird   \n",
       "3                     1885.Pride_and_Prejudice   \n",
       "4                               41865.Twilight   \n",
       "\n",
       "                                       title                 series  \\\n",
       "0                           The Hunger Games    The Hunger Games #1   \n",
       "1  Harry Potter and the Order of the Phoenix        Harry Potter #5   \n",
       "2                      To Kill a Mockingbird  To Kill a Mockingbird   \n",
       "3                        Pride and Prejudice                    NaN   \n",
       "4                                   Twilight   The Twilight Saga #1   \n",
       "\n",
       "                                      author  rating  \\\n",
       "0                            Suzanne Collins    4.33   \n",
       "1  J.K. Rowling, Mary GrandPré (Illustrator)    4.50   \n",
       "2                                 Harper Lee    4.28   \n",
       "3  Jane Austen, Anna Quindlen (Introduction)    4.26   \n",
       "4                            Stephenie Meyer    3.60   \n",
       "\n",
       "                                         description language           isbn  \\\n",
       "0  WINNING MEANS FAME AND FORTUNE.LOSING MEANS CE...  English  9780439023481   \n",
       "1  There is a door at the end of a silent corrido...  English  9780439358071   \n",
       "2  The unforgettable novel of a childhood in a sl...  English  9999999999999   \n",
       "3  Alternate cover edition of ISBN 9780679783268S...  English  9999999999999   \n",
       "4  About three things I was absolutely positive.\\...  English  9780316015844   \n",
       "\n",
       "                                              genres  \\\n",
       "0  ['Young Adult', 'Fiction', 'Dystopia', 'Fantas...   \n",
       "1  ['Fantasy', 'Young Adult', 'Fiction', 'Magic',...   \n",
       "2  ['Classics', 'Fiction', 'Historical Fiction', ...   \n",
       "3  ['Classics', 'Fiction', 'Romance', 'Historical...   \n",
       "4  ['Young Adult', 'Fantasy', 'Romance', 'Vampire...   \n",
       "\n",
       "                                          characters  ... firstPublishDate  \\\n",
       "0  ['Katniss Everdeen', 'Peeta Mellark', 'Cato (H...  ...              NaN   \n",
       "1  ['Sirius Black', 'Draco Malfoy', 'Ron Weasley'...  ...         06/21/03   \n",
       "2  ['Scout Finch', 'Atticus Finch', 'Jem Finch', ...  ...         07/11/60   \n",
       "3  ['Mr. Bennet', 'Mrs. Bennet', 'Jane Bennet', '...  ...         01/28/13   \n",
       "4  ['Edward Cullen', 'Jacob Black', 'Laurent', 'R...  ...         10/05/05   \n",
       "\n",
       "                                              awards numRatings  \\\n",
       "0  ['Locus Award Nominee for Best Young Adult Boo...    6376780   \n",
       "1  ['Bram Stoker Award for Works for Young Reader...    2507623   \n",
       "2  ['Pulitzer Prize for Fiction (1961)', 'Audie A...    4501075   \n",
       "3                                                 []    2998241   \n",
       "4  ['Georgia Peach Book Award (2007)', 'Buxtehude...    4964519   \n",
       "\n",
       "                                      ratingsByStars likedPercent  \\\n",
       "0  ['3444695', '1921313', '745221', '171994', '93...         96.0   \n",
       "1  ['1593642', '637516', '222366', '39573', '14526']         98.0   \n",
       "2  ['2363896', '1333153', '573280', '149952', '80...         95.0   \n",
       "3  ['1617567', '816659', '373311', '113934', '767...         94.0   \n",
       "4  ['1751460', '1113682', '1008686', '542017', '5...         78.0   \n",
       "\n",
       "                                             setting  \\\n",
       "0  ['District 12, Panem', 'Capitol, Panem', 'Pane...   \n",
       "1  ['Hogwarts School of Witchcraft and Wizardry (...   \n",
       "2               ['Maycomb, Alabama (United States)']   \n",
       "3  ['United Kingdom', 'Derbyshire, England (Unite...   \n",
       "4  ['Forks, Washington (United States)', 'Phoenix...   \n",
       "\n",
       "                                            coverImg  bbeScore bbeVotes  price  \n",
       "0  https://i.gr-assets.com/images/S/compressed.ph...   2993816    30516   5.09  \n",
       "1  https://i.gr-assets.com/images/S/compressed.ph...   2632233    26923   7.38  \n",
       "2  https://i.gr-assets.com/images/S/compressed.ph...   2269402    23328    NaN  \n",
       "3  https://i.gr-assets.com/images/S/compressed.ph...   1983116    20452    NaN  \n",
       "4  https://i.gr-assets.com/images/S/compressed.ph...   1459448    14874    2.1  \n",
       "\n",
       "[5 rows x 25 columns]"
      ]
     },
     "execution_count": 2,
     "metadata": {},
     "output_type": "execute_result"
    }
   ],
   "source": [
    "# data upload\n",
    "df1 = pd.read_csv(\"data/books_1.csv\", error_bad_lines=False)\n",
    "df1.head()"
   ]
  },
  {
   "cell_type": "markdown",
   "id": "28ffcffb",
   "metadata": {},
   "source": [
    "We do have some missing data for langauge, edition, publisher, price, and a few other columns. We're not going to be using most of these, so there isn't a problem yet."
   ]
  },
  {
   "cell_type": "code",
   "execution_count": 3,
   "id": "18ff1faf",
   "metadata": {},
   "outputs": [
    {
     "name": "stdout",
     "output_type": "stream",
     "text": [
      "<class 'pandas.core.frame.DataFrame'>\n",
      "RangeIndex: 52478 entries, 0 to 52477\n",
      "Data columns (total 25 columns):\n",
      " #   Column            Non-Null Count  Dtype  \n",
      "---  ------            --------------  -----  \n",
      " 0   bookId            52478 non-null  object \n",
      " 1   title             52478 non-null  object \n",
      " 2   series            23470 non-null  object \n",
      " 3   author            52478 non-null  object \n",
      " 4   rating            52478 non-null  float64\n",
      " 5   description       51140 non-null  object \n",
      " 6   language          48672 non-null  object \n",
      " 7   isbn              52478 non-null  object \n",
      " 8   genres            52478 non-null  object \n",
      " 9   characters        52478 non-null  object \n",
      " 10  bookFormat        51005 non-null  object \n",
      " 11  edition           4955 non-null   object \n",
      " 12  pages             50131 non-null  object \n",
      " 13  publisher         48782 non-null  object \n",
      " 14  publishDate       51598 non-null  object \n",
      " 15  firstPublishDate  31152 non-null  object \n",
      " 16  awards            52478 non-null  object \n",
      " 17  numRatings        52478 non-null  int64  \n",
      " 18  ratingsByStars    52478 non-null  object \n",
      " 19  likedPercent      51856 non-null  float64\n",
      " 20  setting           52478 non-null  object \n",
      " 21  coverImg          51873 non-null  object \n",
      " 22  bbeScore          52478 non-null  int64  \n",
      " 23  bbeVotes          52478 non-null  int64  \n",
      " 24  price             38113 non-null  object \n",
      "dtypes: float64(2), int64(3), object(20)\n",
      "memory usage: 10.0+ MB\n"
     ]
    }
   ],
   "source": [
    "df1.info()"
   ]
  },
  {
   "cell_type": "markdown",
   "id": "1dd8a879",
   "metadata": {},
   "source": [
    "There are few columns for ratings. There is a strong correlation between \"likedPercent\" and \"rating\". The former refers to how many readers added the equivalent of a \"thumbs up\" or \"would recommend\" to their review while the latter is the average rating out of 5 readers have given the book. It's uncler what \"bbe\" refers to in \"bbeScore\" and \"bbeVotes.\" We don't need these categories anyway since we have \"rating.\" "
   ]
  },
  {
   "cell_type": "code",
   "execution_count": 4,
   "id": "0780a4b6",
   "metadata": {},
   "outputs": [
    {
     "data": {
      "text/html": [
       "<div>\n",
       "<style scoped>\n",
       "    .dataframe tbody tr th:only-of-type {\n",
       "        vertical-align: middle;\n",
       "    }\n",
       "\n",
       "    .dataframe tbody tr th {\n",
       "        vertical-align: top;\n",
       "    }\n",
       "\n",
       "    .dataframe thead th {\n",
       "        text-align: right;\n",
       "    }\n",
       "</style>\n",
       "<table border=\"1\" class=\"dataframe\">\n",
       "  <thead>\n",
       "    <tr style=\"text-align: right;\">\n",
       "      <th></th>\n",
       "      <th>rating</th>\n",
       "      <th>numRatings</th>\n",
       "      <th>likedPercent</th>\n",
       "      <th>bbeScore</th>\n",
       "      <th>bbeVotes</th>\n",
       "    </tr>\n",
       "  </thead>\n",
       "  <tbody>\n",
       "    <tr>\n",
       "      <th>rating</th>\n",
       "      <td>1.000000</td>\n",
       "      <td>0.014862</td>\n",
       "      <td>0.805538</td>\n",
       "      <td>0.015355</td>\n",
       "      <td>0.015552</td>\n",
       "    </tr>\n",
       "    <tr>\n",
       "      <th>numRatings</th>\n",
       "      <td>0.014862</td>\n",
       "      <td>1.000000</td>\n",
       "      <td>0.014014</td>\n",
       "      <td>0.709224</td>\n",
       "      <td>0.719138</td>\n",
       "    </tr>\n",
       "    <tr>\n",
       "      <th>likedPercent</th>\n",
       "      <td>0.805538</td>\n",
       "      <td>0.014014</td>\n",
       "      <td>1.000000</td>\n",
       "      <td>0.005688</td>\n",
       "      <td>0.005931</td>\n",
       "    </tr>\n",
       "    <tr>\n",
       "      <th>bbeScore</th>\n",
       "      <td>0.015355</td>\n",
       "      <td>0.709224</td>\n",
       "      <td>0.005688</td>\n",
       "      <td>1.000000</td>\n",
       "      <td>0.999303</td>\n",
       "    </tr>\n",
       "    <tr>\n",
       "      <th>bbeVotes</th>\n",
       "      <td>0.015552</td>\n",
       "      <td>0.719138</td>\n",
       "      <td>0.005931</td>\n",
       "      <td>0.999303</td>\n",
       "      <td>1.000000</td>\n",
       "    </tr>\n",
       "  </tbody>\n",
       "</table>\n",
       "</div>"
      ],
      "text/plain": [
       "                rating  numRatings  likedPercent  bbeScore  bbeVotes\n",
       "rating        1.000000    0.014862      0.805538  0.015355  0.015552\n",
       "numRatings    0.014862    1.000000      0.014014  0.709224  0.719138\n",
       "likedPercent  0.805538    0.014014      1.000000  0.005688  0.005931\n",
       "bbeScore      0.015355    0.709224      0.005688  1.000000  0.999303\n",
       "bbeVotes      0.015552    0.719138      0.005931  0.999303  1.000000"
      ]
     },
     "execution_count": 4,
     "metadata": {},
     "output_type": "execute_result"
    }
   ],
   "source": [
    "df1.corr()"
   ]
  },
  {
   "cell_type": "markdown",
   "id": "4809e18c",
   "metadata": {},
   "source": [
    "Most of the ratings seem to be around 4 out of 5, with quite a few near but not on 5. Almost nothing seems to rank lower than a 2."
   ]
  },
  {
   "cell_type": "code",
   "execution_count": 5,
   "id": "73951015",
   "metadata": {},
   "outputs": [
    {
     "data": {
      "image/png": "[encoded data removed]",
      "text/plain": [
       "<Figure size 640x480 with 1 Axes>"
      ]
     },
     "metadata": {},
     "output_type": "display_data"
    }
   ],
   "source": [
    "sns.histplot(x = df1[\"rating\"]);"
   ]
  },
  {
   "cell_type": "markdown",
   "id": "cf0d39d8",
   "metadata": {},
   "source": [
    "Similarly, most of the \"likedPercent\" is gathered around the 90% mark. There's a good chance people who didn't like the book or didn't finish it didn't bother to like or not like it, meaning the majority of those voting are those who liked the book."
   ]
  },
  {
   "cell_type": "code",
   "execution_count": 6,
   "id": "4ad3d4f4",
   "metadata": {},
   "outputs": [
    {
     "data": {
      "image/png": "[encoded data removed]",
      "text/plain": [
       "<Figure size 640x480 with 1 Axes>"
      ]
     },
     "metadata": {},
     "output_type": "display_data"
    }
   ],
   "source": [
    "sns.histplot(x = df1[\"likedPercent\"]);"
   ]
  },
  {
   "cell_type": "markdown",
   "id": "d239e954",
   "metadata": {},
   "source": [
    "Another key category for us is the genres. Most of the genres in the dataset are in the form of nested lists. We're going to have to one-hot encode these so we know where our books fall in comparison to each other. A lot of the genres listed are also a little odd like \"Lds Fiction.\" We're going to want to limit our dataset to genres that are represented in a good chunk of our books."
   ]
  },
  {
   "cell_type": "code",
   "execution_count": 7,
   "id": "ea43a54d",
   "metadata": {},
   "outputs": [
    {
     "data": {
      "text/plain": [
       "0        ['Young Adult', 'Fiction', 'Dystopia', 'Fantas...\n",
       "1        ['Fantasy', 'Young Adult', 'Fiction', 'Magic',...\n",
       "2        ['Classics', 'Fiction', 'Historical Fiction', ...\n",
       "3        ['Classics', 'Fiction', 'Romance', 'Historical...\n",
       "4        ['Young Adult', 'Fantasy', 'Romance', 'Vampire...\n",
       "                               ...                        \n",
       "52473    ['Vampires', 'Paranormal', 'Young Adult', 'Rom...\n",
       "52474                           ['Mystery', 'Young Adult']\n",
       "52475    ['Fantasy', 'Young Adult', 'Paranormal', 'Ange...\n",
       "52476    ['Fiction', 'Mystery', 'Historical Fiction', '...\n",
       "52477    ['Lds Fiction', 'Historical Fiction', 'Young A...\n",
       "Name: genres, Length: 52478, dtype: object"
      ]
     },
     "execution_count": 7,
     "metadata": {},
     "output_type": "execute_result"
    }
   ],
   "source": [
    "df1[\"genres\"]"
   ]
  },
  {
   "cell_type": "markdown",
   "id": "aecb0124",
   "metadata": {},
   "source": [
    "Similarly, about half of the books in the dataset belong to series. There are nan values in this column, indicating, perhaps that those books don't belong to any series. We also have a lot of books that seem to be the only books in their series (or at least the only ones we have in the dataset). We're going to want to cut out any series that doesn't have at least 2 books in them.\n",
    "\n",
    "Also, many series titles are accompanied by a number and hashtag. It doesn't help us to know what number in the series a book is but only that it belongs to a series so the recommendation engine can suggest more books in the same series. We'll remove these from the series titles to help with this."
   ]
  },
  {
   "cell_type": "code",
   "execution_count": 8,
   "id": "2e8f28a2",
   "metadata": {},
   "outputs": [
    {
     "data": {
      "text/plain": [
       "Wrong Reasons #1                  1\n",
       "H.I.V.E. #2                       1\n",
       "Weddings by Bella #2              1\n",
       "Mythic #1                         1\n",
       "Tunnels #3                        1\n",
       "Cotton Malone #1                  1\n",
       "Dirk Pitt #19                     1\n",
       "Incarnations of Immortality #3    1\n",
       "Bad Kitty #1                      1\n",
       "Stripling Warrior #1              1\n",
       "Name: series, dtype: int64"
      ]
     },
     "execution_count": 8,
     "metadata": {},
     "output_type": "execute_result"
    }
   ],
   "source": [
    "df1[\"series\"].value_counts().tail(10)"
   ]
  },
  {
   "cell_type": "markdown",
   "id": "684d2092",
   "metadata": {},
   "source": [
    "## Data Preparation"
   ]
  },
  {
   "cell_type": "markdown",
   "id": "11fc571c",
   "metadata": {},
   "source": [
    "There's a lot to clean up in this dataset to get something usable for our recommendation engine. We'll start with removing extra authors from the set (usually translators or illustrators) and the tag \"Goodreads Author\" wherever it appears. Then we'll get rid of extra information and unusuable rows. We also only want books that have at least 1000 ratings to ensure that the \"rating\" score is valid with a good amount of input and not unfairly inflated or deflated."
   ]
  },
  {
   "cell_type": "code",
   "execution_count": 9,
   "id": "c5bac0ee",
   "metadata": {},
   "outputs": [],
   "source": [
    "# change author column to only contain main author\n",
    "df1[\"author\"] = df1[\"author\"].str.split(\",\")\n",
    "df1[\"author\"] = df1[\"author\"].str[0]\n",
    "df1[\"author\"] = df1[\"author\"].str.replace(\"\\(Goodreads Author\\)\", \"\")\n",
    "\n",
    "\n",
    "# limit dataframe to works in English\n",
    "df1 = df1.loc[df1[\"language\"] == \"English\"]\n",
    "\n",
    "# drop unnecessary columns\n",
    "df1 = df1.drop(columns=[\"bookId\", \"language\", \"isbn\", \"characters\", \"bookFormat\", \"edition\", \n",
    "                        \"setting\", \"bbeScore\", \"bbeVotes\", \"price\", \"ratingsByStars\", \"coverImg\",\n",
    "                       \"likedPercent\", \"publishDate\", \"firstPublishDate\"])\n",
    "\n",
    "# rename columns\n",
    "df1.rename(columns = {\"pages\": \"num_pages\"}, inplace = True)\n",
    "\n",
    "# drop duplicate entries\n",
    "df1 = df1.drop_duplicates(subset = [\"title\", \"author\"])\n",
    "\n",
    "# remove numbers from series column\n",
    "df1['series'] = df1['series'].str.replace('\\d+', '').str.replace(\"#\", \"\")\n",
    "\n",
    "# remove rows with less than 1000 ratings\n",
    "df1 = df1.loc[df1[\"numRatings\"] >= 1000]"
   ]
  },
  {
   "cell_type": "markdown",
   "id": "79aaaa94",
   "metadata": {},
   "source": [
    "We want to create columns for each individual genre (\"Young Adult,\" \"Zombies,\" etc.) that include 1 or 0 if the book falls into that category or not. We also only want genres that show up at least 500 times."
   ]
  },
  {
   "cell_type": "code",
   "execution_count": 10,
   "id": "4c65cc0c",
   "metadata": {},
   "outputs": [],
   "source": [
    "# separate genres in column\n",
    "df1[\"genres\"] = df1[\"genres\"].str.strip(\"[]\")\n",
    "df1[\"genres\"] = df1[\"genres\"].str.split(\",\")"
   ]
  },
  {
   "cell_type": "markdown",
   "id": "40432d78",
   "metadata": {},
   "source": [
    "The code to one-hot encode and stack genres comes from joris on stackoverflow."
   ]
  },
  {
   "cell_type": "code",
   "execution_count": 11,
   "id": "8d821ef0",
   "metadata": {},
   "outputs": [],
   "source": [
    "# one-hot encode genres\n",
    "df2 = pd.get_dummies(df1[\"genres\"].apply(pd.Series).stack()).sum(level=0)"
   ]
  },
  {
   "cell_type": "code",
   "execution_count": 12,
   "id": "032365f5",
   "metadata": {},
   "outputs": [],
   "source": [
    "# concat dataframes\n",
    "df = df1.merge(df2, left_index=True, right_index=True)"
   ]
  },
  {
   "cell_type": "code",
   "execution_count": 13,
   "id": "a6f36c04",
   "metadata": {},
   "outputs": [],
   "source": [
    "# drop genres that are represented in less than 500 books\n",
    "genre_cols = df.columns[10:]\n",
    "df[genre_cols].astype(int)\n",
    "for col in df[genre_cols]:\n",
    "    if df[col].sum() < 500:\n",
    "        df.drop(col, axis=1, inplace=True)"
   ]
  },
  {
   "cell_type": "code",
   "execution_count": 14,
   "id": "9248a96c",
   "metadata": {},
   "outputs": [],
   "source": [
    "# fix column names\n",
    "df.columns = df.columns.str.replace(\"'\",\"\")\n",
    "df.columns = df.columns.str.strip()\n",
    "df.columns = df.columns.str.lower()"
   ]
  },
  {
   "cell_type": "markdown",
   "id": "3d1ab2cb",
   "metadata": {},
   "source": [
    "Instead of using the exact percentages for \"ratings,\" we'll use bins that we can one-hot encode. We can see that the vast majority of books are rated between 3.5 and 4.5. "
   ]
  },
  {
   "cell_type": "code",
   "execution_count": 15,
   "id": "8f0f3441",
   "metadata": {},
   "outputs": [
    {
     "data": {
      "image/png": "[encoded data removed]",
      "text/plain": [
       "<Figure size 640x480 with 1 Axes>"
      ]
     },
     "metadata": {},
     "output_type": "display_data"
    }
   ],
   "source": [
    "# one-hot encode bins for ratings\n",
    "df.loc[ (df['rating'] > 2) & (df['rating'] <= 2.5), 'rating_between'] = \"between 2 and 2.5\"\n",
    "df.loc[ (df['rating'] > 2.5) & (df['rating'] <= 3), 'rating_between'] = \"between 2.5 and 3\"\n",
    "\n",
    "df.loc[ (df['rating'] > 3) & (df['rating'] <= 3.5), 'rating_between'] = \"between 3 and 3.5\"\n",
    "df.loc[ (df['rating'] > 3.5) & (df['rating'] <= 4), 'rating_between'] = \"between 3.5 and 4\"\n",
    "\n",
    "df.loc[ (df['rating'] > 4) & (df['rating'] <= 4.5), 'rating_between'] = \"between 4 and 4.5\"\n",
    "df.loc[ (df['rating'] > 4.5) & (df['rating'] <= 5), 'rating_between'] = \"between 4.5 and 5\"\n",
    "\n",
    "# plot count\n",
    "sns.histplot(data = df, x = \"rating_between\")\n",
    "plt.xticks(rotation = 45);"
   ]
  },
  {
   "cell_type": "code",
   "execution_count": 16,
   "id": "97f9c0b3",
   "metadata": {},
   "outputs": [],
   "source": [
    "# drop columns\n",
    "df = pd.get_dummies(df, columns = [\"rating_between\"], drop_first=True)\n",
    "df = df.drop(columns=[\"rating\", \"genres\"])"
   ]
  },
  {
   "cell_type": "code",
   "execution_count": 17,
   "id": "f459bce7",
   "metadata": {},
   "outputs": [
    {
     "data": {
      "text/html": [
       "<div>\n",
       "<style scoped>\n",
       "    .dataframe tbody tr th:only-of-type {\n",
       "        vertical-align: middle;\n",
       "    }\n",
       "\n",
       "    .dataframe tbody tr th {\n",
       "        vertical-align: top;\n",
       "    }\n",
       "\n",
       "    .dataframe thead th {\n",
       "        text-align: right;\n",
       "    }\n",
       "</style>\n",
       "<table border=\"1\" class=\"dataframe\">\n",
       "  <thead>\n",
       "    <tr style=\"text-align: right;\">\n",
       "      <th></th>\n",
       "      <th>title</th>\n",
       "      <th>series</th>\n",
       "      <th>author</th>\n",
       "      <th>description</th>\n",
       "      <th>num_pages</th>\n",
       "      <th>publisher</th>\n",
       "      <th>awards</th>\n",
       "      <th>numratings</th>\n",
       "      <th>19th century</th>\n",
       "      <th>20th century</th>\n",
       "      <th>...</th>\n",
       "      <th>nonfiction</th>\n",
       "      <th>paranormal</th>\n",
       "      <th>romance</th>\n",
       "      <th>science fiction</th>\n",
       "      <th>young adult</th>\n",
       "      <th>rating_between_between 2.5 and 3</th>\n",
       "      <th>rating_between_between 3 and 3.5</th>\n",
       "      <th>rating_between_between 3.5 and 4</th>\n",
       "      <th>rating_between_between 4 and 4.5</th>\n",
       "      <th>rating_between_between 4.5 and 5</th>\n",
       "    </tr>\n",
       "  </thead>\n",
       "  <tbody>\n",
       "    <tr>\n",
       "      <th>0</th>\n",
       "      <td>The Hunger Games</td>\n",
       "      <td>The Hunger Games</td>\n",
       "      <td>Suzanne Collins</td>\n",
       "      <td>WINNING MEANS FAME AND FORTUNE.LOSING MEANS CE...</td>\n",
       "      <td>374</td>\n",
       "      <td>Scholastic Press</td>\n",
       "      <td>['Locus Award Nominee for Best Young Adult Boo...</td>\n",
       "      <td>6376780</td>\n",
       "      <td>0</td>\n",
       "      <td>0</td>\n",
       "      <td>...</td>\n",
       "      <td>0</td>\n",
       "      <td>0</td>\n",
       "      <td>0</td>\n",
       "      <td>0</td>\n",
       "      <td>1</td>\n",
       "      <td>0</td>\n",
       "      <td>0</td>\n",
       "      <td>0</td>\n",
       "      <td>1</td>\n",
       "      <td>0</td>\n",
       "    </tr>\n",
       "    <tr>\n",
       "      <th>1</th>\n",
       "      <td>Harry Potter and the Order of the Phoenix</td>\n",
       "      <td>Harry Potter</td>\n",
       "      <td>J.K. Rowling</td>\n",
       "      <td>There is a door at the end of a silent corrido...</td>\n",
       "      <td>870</td>\n",
       "      <td>Scholastic Inc.</td>\n",
       "      <td>['Bram Stoker Award for Works for Young Reader...</td>\n",
       "      <td>2507623</td>\n",
       "      <td>0</td>\n",
       "      <td>0</td>\n",
       "      <td>...</td>\n",
       "      <td>0</td>\n",
       "      <td>0</td>\n",
       "      <td>0</td>\n",
       "      <td>0</td>\n",
       "      <td>0</td>\n",
       "      <td>0</td>\n",
       "      <td>0</td>\n",
       "      <td>0</td>\n",
       "      <td>1</td>\n",
       "      <td>0</td>\n",
       "    </tr>\n",
       "    <tr>\n",
       "      <th>2</th>\n",
       "      <td>To Kill a Mockingbird</td>\n",
       "      <td>To Kill a Mockingbird</td>\n",
       "      <td>Harper Lee</td>\n",
       "      <td>The unforgettable novel of a childhood in a sl...</td>\n",
       "      <td>324</td>\n",
       "      <td>Harper Perennial Modern Classics</td>\n",
       "      <td>['Pulitzer Prize for Fiction (1961)', 'Audie A...</td>\n",
       "      <td>4501075</td>\n",
       "      <td>0</td>\n",
       "      <td>0</td>\n",
       "      <td>...</td>\n",
       "      <td>0</td>\n",
       "      <td>0</td>\n",
       "      <td>0</td>\n",
       "      <td>0</td>\n",
       "      <td>0</td>\n",
       "      <td>0</td>\n",
       "      <td>0</td>\n",
       "      <td>0</td>\n",
       "      <td>1</td>\n",
       "      <td>0</td>\n",
       "    </tr>\n",
       "    <tr>\n",
       "      <th>3</th>\n",
       "      <td>Pride and Prejudice</td>\n",
       "      <td>NaN</td>\n",
       "      <td>Jane Austen</td>\n",
       "      <td>Alternate cover edition of ISBN 9780679783268S...</td>\n",
       "      <td>279</td>\n",
       "      <td>Modern Library</td>\n",
       "      <td>[]</td>\n",
       "      <td>2998241</td>\n",
       "      <td>0</td>\n",
       "      <td>0</td>\n",
       "      <td>...</td>\n",
       "      <td>0</td>\n",
       "      <td>0</td>\n",
       "      <td>0</td>\n",
       "      <td>0</td>\n",
       "      <td>0</td>\n",
       "      <td>0</td>\n",
       "      <td>0</td>\n",
       "      <td>0</td>\n",
       "      <td>1</td>\n",
       "      <td>0</td>\n",
       "    </tr>\n",
       "    <tr>\n",
       "      <th>4</th>\n",
       "      <td>Twilight</td>\n",
       "      <td>The Twilight Saga</td>\n",
       "      <td>Stephenie Meyer</td>\n",
       "      <td>About three things I was absolutely positive.\\...</td>\n",
       "      <td>501</td>\n",
       "      <td>Little, Brown and Company</td>\n",
       "      <td>['Georgia Peach Book Award (2007)', 'Buxtehude...</td>\n",
       "      <td>4964519</td>\n",
       "      <td>0</td>\n",
       "      <td>0</td>\n",
       "      <td>...</td>\n",
       "      <td>0</td>\n",
       "      <td>0</td>\n",
       "      <td>0</td>\n",
       "      <td>0</td>\n",
       "      <td>1</td>\n",
       "      <td>0</td>\n",
       "      <td>0</td>\n",
       "      <td>1</td>\n",
       "      <td>0</td>\n",
       "      <td>0</td>\n",
       "    </tr>\n",
       "  </tbody>\n",
       "</table>\n",
       "<p>5 rows × 119 columns</p>\n",
       "</div>"
      ],
      "text/plain": [
       "                                       title                 series  \\\n",
       "0                           The Hunger Games      The Hunger Games    \n",
       "1  Harry Potter and the Order of the Phoenix          Harry Potter    \n",
       "2                      To Kill a Mockingbird  To Kill a Mockingbird   \n",
       "3                        Pride and Prejudice                    NaN   \n",
       "4                                   Twilight     The Twilight Saga    \n",
       "\n",
       "            author                                        description  \\\n",
       "0  Suzanne Collins  WINNING MEANS FAME AND FORTUNE.LOSING MEANS CE...   \n",
       "1     J.K. Rowling  There is a door at the end of a silent corrido...   \n",
       "2       Harper Lee  The unforgettable novel of a childhood in a sl...   \n",
       "3      Jane Austen  Alternate cover edition of ISBN 9780679783268S...   \n",
       "4  Stephenie Meyer  About three things I was absolutely positive.\\...   \n",
       "\n",
       "  num_pages                         publisher  \\\n",
       "0       374                  Scholastic Press   \n",
       "1       870                   Scholastic Inc.   \n",
       "2       324  Harper Perennial Modern Classics   \n",
       "3       279                    Modern Library   \n",
       "4       501         Little, Brown and Company   \n",
       "\n",
       "                                              awards  numratings  \\\n",
       "0  ['Locus Award Nominee for Best Young Adult Boo...     6376780   \n",
       "1  ['Bram Stoker Award for Works for Young Reader...     2507623   \n",
       "2  ['Pulitzer Prize for Fiction (1961)', 'Audie A...     4501075   \n",
       "3                                                 []     2998241   \n",
       "4  ['Georgia Peach Book Award (2007)', 'Buxtehude...     4964519   \n",
       "\n",
       "   19th century  20th century  ...  nonfiction  paranormal  romance  \\\n",
       "0             0             0  ...           0           0        0   \n",
       "1             0             0  ...           0           0        0   \n",
       "2             0             0  ...           0           0        0   \n",
       "3             0             0  ...           0           0        0   \n",
       "4             0             0  ...           0           0        0   \n",
       "\n",
       "   science fiction  young adult  rating_between_between 2.5 and 3  \\\n",
       "0                0            1                                 0   \n",
       "1                0            0                                 0   \n",
       "2                0            0                                 0   \n",
       "3                0            0                                 0   \n",
       "4                0            1                                 0   \n",
       "\n",
       "   rating_between_between 3 and 3.5  rating_between_between 3.5 and 4  \\\n",
       "0                                 0                                 0   \n",
       "1                                 0                                 0   \n",
       "2                                 0                                 0   \n",
       "3                                 0                                 0   \n",
       "4                                 0                                 1   \n",
       "\n",
       "   rating_between_between 4 and 4.5  rating_between_between 4.5 and 5  \n",
       "0                                 1                                 0  \n",
       "1                                 1                                 0  \n",
       "2                                 1                                 0  \n",
       "3                                 1                                 0  \n",
       "4                                 0                                 0  \n",
       "\n",
       "[5 rows x 119 columns]"
      ]
     },
     "execution_count": 17,
     "metadata": {},
     "output_type": "execute_result"
    }
   ],
   "source": [
    "# reset index\n",
    "df = df.reset_index().drop(columns = \"index\")\n",
    "df.head()"
   ]
  },
  {
   "cell_type": "markdown",
   "id": "1401ba3c",
   "metadata": {},
   "source": [
    "## The Recommendation Engine"
   ]
  },
  {
   "cell_type": "markdown",
   "id": "8f341e6c",
   "metadata": {},
   "source": [
    "Now that our dataset is cleaned up, we're going to make a recommendation engine using the K Nearest Neighbors model. We'll remove all our categorical columns so we match books based on genres, reader ratings, and series."
   ]
  },
  {
   "cell_type": "code",
   "execution_count": 18,
   "id": "67a8f725",
   "metadata": {},
   "outputs": [],
   "source": [
    "# drop non-numerical columns for model\n",
    "features = df.drop(columns = [\"title\", \"author\", \"description\", \"num_pages\", \"publisher\", \"awards\", \n",
    "                              \"numratings\", \"series\"])\n",
    "\n",
    "# fit and transform with MinMaxScaler\n",
    "min_max_scaler = MinMaxScaler()\n",
    "features = min_max_scaler.fit_transform(features)"
   ]
  },
  {
   "cell_type": "code",
   "execution_count": 19,
   "id": "3f4acd0e",
   "metadata": {},
   "outputs": [],
   "source": [
    "# fit KNN model\n",
    "model = neighbors.NearestNeighbors(n_neighbors=6, algorithm='ball_tree')\n",
    "model.fit(features)\n",
    "dist, idlist = model.kneighbors(features)"
   ]
  },
  {
   "cell_type": "markdown",
   "id": "6d80d450",
   "metadata": {},
   "source": [
    "Now that we have the model, we'll define a function that gives us a list of recs for every book we put in."
   ]
  },
  {
   "cell_type": "code",
   "execution_count": 20,
   "id": "5e425e17",
   "metadata": {},
   "outputs": [],
   "source": [
    "# define function\n",
    "def BookRecommender(book_name):\n",
    "    book_list_name = []\n",
    "    book_id = df[df['title'] == book_name].index\n",
    "    book_id = book_id[0]\n",
    "    for newid in idlist[book_id]:\n",
    "        title = df.loc[newid].title\n",
    "        author = df.loc[newid].author\n",
    "        if title == book_name:\n",
    "            pass\n",
    "        else:\n",
    "            book_list_name.append(f\"{title} by {author}\")\n",
    "        \n",
    "    return book_list_name   "
   ]
  },
  {
   "cell_type": "markdown",
   "id": "d38f7825",
   "metadata": {},
   "source": [
    "Let's try it!"
   ]
  },
  {
   "cell_type": "code",
   "execution_count": 21,
   "id": "9832f383",
   "metadata": {},
   "outputs": [
    {
     "data": {
      "text/plain": [
       "['Gone with the Wind by Margaret Mitchell',\n",
       " 'Doctor Zhivago by Boris Pasternak',\n",
       " 'Les Liaisons dangereuses by Pierre Choderlos de Laclos',\n",
       " 'Les Misérables by Victor Hugo',\n",
       " 'The Color Purple by Alice Walker']"
      ]
     },
     "execution_count": 21,
     "metadata": {},
     "output_type": "execute_result"
    }
   ],
   "source": [
    "BookRecommender('Pride and Prejudice')"
   ]
  },
  {
   "cell_type": "code",
   "execution_count": 22,
   "id": "5373d0f4",
   "metadata": {},
   "outputs": [
    {
     "data": {
      "text/plain": [
       "['The Fury / Dark Reunion by L.J. Smith ',\n",
       " 'Evernight by Claudia Gray ',\n",
       " 'Marked by P.C. Cast ',\n",
       " 'The Awakening / The Struggle by L.J. Smith ',\n",
       " 'The Twilight Collection by Stephenie Meyer']"
      ]
     },
     "execution_count": 22,
     "metadata": {},
     "output_type": "execute_result"
    }
   ],
   "source": [
    "BookRecommender('Twilight')"
   ]
  },
  {
   "cell_type": "code",
   "execution_count": 23,
   "id": "fd1daae6",
   "metadata": {},
   "outputs": [
    {
     "data": {
      "text/plain": [
       "['Divergent by Veronica Roth ',\n",
       " 'Divergent Series Complete Box Set by Veronica Roth ',\n",
       " 'Legend by Marie Lu ',\n",
       " 'Catching Fire by Suzanne Collins',\n",
       " 'Insurgent by Veronica Roth ']"
      ]
     },
     "execution_count": 23,
     "metadata": {},
     "output_type": "execute_result"
    }
   ],
   "source": [
    "BookRecommender('The Hunger Games')"
   ]
  },
  {
   "cell_type": "code",
   "execution_count": 24,
   "id": "01cac224",
   "metadata": {},
   "outputs": [
    {
     "data": {
      "text/plain": [
       "['Les Liaisons dangereuses by Pierre Choderlos de Laclos',\n",
       " 'Consuelo by George Sand',\n",
       " 'The Count of Monte Cristo by Alexandre Dumas',\n",
       " 'The Man Who Laughs by Victor Hugo',\n",
       " 'The Three Musketeers by Alexandre Dumas']"
      ]
     },
     "execution_count": 24,
     "metadata": {},
     "output_type": "execute_result"
    }
   ],
   "source": [
    "BookRecommender('Les Misérables')"
   ]
  },
  {
   "cell_type": "code",
   "execution_count": 25,
   "id": "da928156",
   "metadata": {},
   "outputs": [
    {
     "data": {
      "text/plain": [
       "['El Filibusterismo by José Rizal',\n",
       " 'Noli Me Tángere [Touch Me Not] by José Rizal',\n",
       " 'The Paul Street Boys by Ferenc Molnár',\n",
       " \"Harper Lee's To Kill a Mockingbird by Harold Bloom (Editor)\",\n",
       " 'A Tree Grows in Brooklyn by Betty Smith']"
      ]
     },
     "execution_count": 25,
     "metadata": {},
     "output_type": "execute_result"
    }
   ],
   "source": [
    "BookRecommender(\"To Kill a Mockingbird\")"
   ]
  },
  {
   "cell_type": "code",
   "execution_count": 26,
   "id": "43afdedf",
   "metadata": {},
   "outputs": [
    {
     "data": {
      "text/plain": [
       "['Wives and Daughters by Elizabeth Gaskell',\n",
       " 'Anna Karenina by Leo Tolstoy',\n",
       " 'North and South by Elizabeth Gaskell',\n",
       " 'El Filibusterismo by José Rizal',\n",
       " 'Persuasion by Jane Austen']"
      ]
     },
     "execution_count": 26,
     "metadata": {},
     "output_type": "execute_result"
    }
   ],
   "source": [
    "BookRecommender(\"Jane Eyre\")"
   ]
  },
  {
   "cell_type": "markdown",
   "id": "2126ea8a",
   "metadata": {},
   "source": [
    "## Conclusion & Next Steps"
   ]
  },
  {
   "cell_type": "markdown",
   "id": "888cbab3",
   "metadata": {},
   "source": [
    "As you can see, the book recommendation engine gives you some pretty good suggestions for the books you put in. But there are still a few kinks to work out:\n",
    "\n",
    "1. Sometimes the recommendation engine gives you the whole series as a suggestion or a re-issue, this seems a bit obvious. We can clean up the dataset further to remove box sets or re-issues.\n",
    "2. Despite the size of the dataset (29k at the end of cleaning), there are still a lot of books that this system doesn't have. We can update it with more recent book releases, especially modern classics and bestsellers.\n",
    "3. It'd be nice to know what genres the recommendations are falling into to give the user more to explore. We can add to the for loop to allow for this."
   ]
  },
  {
   "cell_type": "markdown",
   "id": "05aa27af",
   "metadata": {},
   "source": [
    "And finally, wouldn't it be nice to have an app or pretty front-end to make all of this more accessible for users? That's coming right up!"
   ]
  },
  {
   "cell_type": "code",
   "execution_count": null,
   "id": "890c9093",
   "metadata": {},
   "outputs": [],
   "source": []
  }
 ],
 "metadata": {
  "kernelspec": {
   "display_name": "Python (narnia)",
   "language": "python",
   "name": "narnia"
  },
  "language_info": {
   "codemirror_mode": {
    "name": "ipython",
    "version": 3
   },
   "file_extension": ".py",
   "mimetype": "text/x-python",
   "name": "python",
   "nbconvert_exporter": "python",
   "pygments_lexer": "ipython3",
   "version": "3.10.9"
  }
 },
 "nbformat": 4,
 "nbformat_minor": 5
}
